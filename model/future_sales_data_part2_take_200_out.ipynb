{
 "cells": [
  {
   "cell_type": "markdown",
   "metadata": {},
   "source": [
    "## DSAI midterm\n",
    "\n",
    "### part 2\n",
    "### 特徵選取\n",
    "\n",
    "根據 part 1 特徵選取 重要度高於 200 的特徵來跑模型\n",
    "\n",
    "submission scored : 0.91642\n"
   ]
  },
  {
   "cell_type": "code",
   "execution_count": 1,
   "metadata": {},
   "outputs": [
    {
     "data": {
      "text/plain": [
       "sys.version_info(major=3, minor=6, micro=5, releaselevel='final', serial=0)"
      ]
     },
     "execution_count": 1,
     "metadata": {},
     "output_type": "execute_result"
    }
   ],
   "source": [
    "import numpy as np\n",
    "import pandas as pd\n",
    "pd.set_option('display.max_rows', 300)\n",
    "pd.set_option('display.max_columns', 300)\n",
    "\n",
    "from itertools import product\n",
    "from sklearn.preprocessing import LabelEncoder\n",
    "\n",
    "from xgboost import XGBRegressor\n",
    "from xgboost import plot_importance\n",
    "\n",
    "import seaborn as sns\n",
    "import matplotlib.pyplot as plt\n",
    "%matplotlib inline\n",
    "\n",
    "import time\n",
    "import pickle\n",
    "import gc\n",
    "import sys\n",
    "sys.version_info\n"
   ]
  },
  {
   "cell_type": "markdown",
   "metadata": {},
   "source": [
    "## read data"
   ]
  },
  {
   "cell_type": "code",
   "execution_count": 2,
   "metadata": {},
   "outputs": [],
   "source": [
    "data = pd.read_pickle('Predict Future Sales/data.pkl')\n",
    "data = data[[\n",
    "    'date_block_num',\n",
    "    'shop_id',\n",
    "    'item_id',\n",
    "    'item_cnt_month',\n",
    "#    'city_code',\n",
    "    'item_category_id',\n",
    "#    'type_code',\n",
    "    'subtype_code',\n",
    "    'item_cnt_month_lag_1',\n",
    "    'item_cnt_month_lag_2',\n",
    "    'item_cnt_month_lag_3',\n",
    "#    'item_cnt_month_lag_6',\n",
    "#    'item_cnt_month_lag_12',\n",
    "    'date_avg_item_cnt_lag_1',\n",
    "    'date_item_avg_item_cnt_lag_1',\n",
    "    'date_item_avg_item_cnt_lag_2',\n",
    "#    'date_item_avg_item_cnt_lag_3',\n",
    "#    'date_item_avg_item_cnt_lag_6',\n",
    "#    'date_item_avg_item_cnt_lag_12',\n",
    "    'date_shop_avg_item_cnt_lag_1',\n",
    "#    'date_shop_avg_item_cnt_lag_2',\n",
    "#    'date_shop_avg_item_cnt_lag_3',\n",
    "#    'date_shop_avg_item_cnt_lag_6',\n",
    "#    'date_shop_avg_item_cnt_lag_12',\n",
    "    'date_cat_avg_item_cnt_lag_1',\n",
    "    'date_shop_cat_avg_item_cnt_lag_1',\n",
    "    #'date_shop_type_avg_item_cnt_lag_1',\n",
    "    #'date_shop_subtype_avg_item_cnt_lag_1',\n",
    "#    'date_city_avg_item_cnt_lag_1',\n",
    "#    'date_item_city_avg_item_cnt_lag_1',\n",
    "    #'date_type_avg_item_cnt_lag_1',\n",
    "    #'date_subtype_avg_item_cnt_lag_1',\n",
    "    'delta_price_lag',\n",
    "    'month',\n",
    "#    'days',\n",
    "#    'item_shop_last_sale',\n",
    "    'item_last_sale',\n",
    "#    'item_shop_first_sale',\n",
    "    'item_first_sale',\n",
    "]]"
   ]
  },
  {
   "cell_type": "markdown",
   "metadata": {},
   "source": [
    "### train, test, validation split"
   ]
  },
  {
   "cell_type": "code",
   "execution_count": 4,
   "metadata": {},
   "outputs": [],
   "source": [
    "# take train, validation, test\n",
    "X_train = data[data.date_block_num < 33].drop(['item_cnt_month'], axis=1)\n",
    "Y_train = data[data.date_block_num < 33]['item_cnt_month']\n",
    "\n",
    "X_valid = data[data.date_block_num == 33].drop(['item_cnt_month'], axis=1)\n",
    "Y_valid = data[data.date_block_num == 33]['item_cnt_month']\n",
    "\n",
    "X_test = data[data.date_block_num == 34].drop(['item_cnt_month'], axis=1)\n",
    "\n"
   ]
  },
  {
   "cell_type": "code",
   "execution_count": 5,
   "metadata": {},
   "outputs": [],
   "source": [
    "del data\n",
    "gc.collect();"
   ]
  },
  {
   "cell_type": "markdown",
   "metadata": {},
   "source": [
    "## build model"
   ]
  },
  {
   "cell_type": "code",
   "execution_count": 6,
   "metadata": {},
   "outputs": [
    {
     "name": "stderr",
     "output_type": "stream",
     "text": [
      "C:\\ProgramData\\Anaconda3\\lib\\site-packages\\xgboost\\core.py:587: FutureWarning: Series.base is deprecated and will be removed in a future version\n",
      "  if getattr(data, 'base', None) is not None and \\\n",
      "C:\\ProgramData\\Anaconda3\\lib\\site-packages\\xgboost\\core.py:588: FutureWarning: Series.base is deprecated and will be removed in a future version\n",
      "  data.base is not None and isinstance(data, np.ndarray) \\\n"
     ]
    },
    {
     "name": "stdout",
     "output_type": "stream",
     "text": [
      "[0]\tvalidation_0-rmse:1.15701\tvalidation_1-rmse:1.12426\n",
      "Multiple eval metrics have been passed: 'validation_1-rmse' will be used for early stopping.\n",
      "\n",
      "Will train until validation_1-rmse hasn't improved in 10 rounds.\n",
      "[1]\tvalidation_0-rmse:1.10954\tvalidation_1-rmse:1.08638\n",
      "[2]\tvalidation_0-rmse:1.06845\tvalidation_1-rmse:1.05491\n",
      "[3]\tvalidation_0-rmse:1.0335\tvalidation_1-rmse:1.02839\n",
      "[4]\tvalidation_0-rmse:1.00705\tvalidation_1-rmse:1.01044\n",
      "[5]\tvalidation_0-rmse:0.981225\tvalidation_1-rmse:0.991323\n",
      "[6]\tvalidation_0-rmse:0.959761\tvalidation_1-rmse:0.976103\n",
      "[7]\tvalidation_0-rmse:0.941784\tvalidation_1-rmse:0.963873\n",
      "[8]\tvalidation_0-rmse:0.926195\tvalidation_1-rmse:0.953527\n",
      "[9]\tvalidation_0-rmse:0.912968\tvalidation_1-rmse:0.945126\n",
      "[10]\tvalidation_0-rmse:0.903101\tvalidation_1-rmse:0.939665\n",
      "[11]\tvalidation_0-rmse:0.893462\tvalidation_1-rmse:0.934573\n",
      "[12]\tvalidation_0-rmse:0.886358\tvalidation_1-rmse:0.931052\n",
      "[13]\tvalidation_0-rmse:0.878999\tvalidation_1-rmse:0.927023\n",
      "[14]\tvalidation_0-rmse:0.872493\tvalidation_1-rmse:0.923655\n",
      "[15]\tvalidation_0-rmse:0.866771\tvalidation_1-rmse:0.9209\n",
      "[16]\tvalidation_0-rmse:0.862215\tvalidation_1-rmse:0.920205\n",
      "[17]\tvalidation_0-rmse:0.858592\tvalidation_1-rmse:0.918529\n",
      "[18]\tvalidation_0-rmse:0.854687\tvalidation_1-rmse:0.917266\n",
      "[19]\tvalidation_0-rmse:0.851325\tvalidation_1-rmse:0.916115\n",
      "[20]\tvalidation_0-rmse:0.848279\tvalidation_1-rmse:0.915361\n",
      "[21]\tvalidation_0-rmse:0.845694\tvalidation_1-rmse:0.914553\n",
      "[22]\tvalidation_0-rmse:0.843231\tvalidation_1-rmse:0.914446\n",
      "[23]\tvalidation_0-rmse:0.840938\tvalidation_1-rmse:0.914611\n",
      "[24]\tvalidation_0-rmse:0.839141\tvalidation_1-rmse:0.91446\n",
      "[25]\tvalidation_0-rmse:0.837449\tvalidation_1-rmse:0.913369\n",
      "[26]\tvalidation_0-rmse:0.835937\tvalidation_1-rmse:0.913539\n",
      "[27]\tvalidation_0-rmse:0.834691\tvalidation_1-rmse:0.913295\n",
      "[28]\tvalidation_0-rmse:0.832962\tvalidation_1-rmse:0.912566\n",
      "[29]\tvalidation_0-rmse:0.831481\tvalidation_1-rmse:0.912166\n",
      "[30]\tvalidation_0-rmse:0.830291\tvalidation_1-rmse:0.912554\n",
      "[31]\tvalidation_0-rmse:0.828702\tvalidation_1-rmse:0.912204\n",
      "[32]\tvalidation_0-rmse:0.827914\tvalidation_1-rmse:0.912582\n",
      "[33]\tvalidation_0-rmse:0.826769\tvalidation_1-rmse:0.912477\n",
      "[34]\tvalidation_0-rmse:0.825591\tvalidation_1-rmse:0.911868\n",
      "[35]\tvalidation_0-rmse:0.824666\tvalidation_1-rmse:0.912016\n",
      "[36]\tvalidation_0-rmse:0.823513\tvalidation_1-rmse:0.913239\n",
      "[37]\tvalidation_0-rmse:0.822672\tvalidation_1-rmse:0.913732\n",
      "[38]\tvalidation_0-rmse:0.82195\tvalidation_1-rmse:0.914237\n",
      "[39]\tvalidation_0-rmse:0.820594\tvalidation_1-rmse:0.91492\n",
      "[40]\tvalidation_0-rmse:0.819867\tvalidation_1-rmse:0.914615\n",
      "[41]\tvalidation_0-rmse:0.819414\tvalidation_1-rmse:0.914504\n",
      "[42]\tvalidation_0-rmse:0.818521\tvalidation_1-rmse:0.914423\n",
      "[43]\tvalidation_0-rmse:0.817828\tvalidation_1-rmse:0.914415\n",
      "[44]\tvalidation_0-rmse:0.817234\tvalidation_1-rmse:0.914584\n",
      "Stopping. Best iteration:\n",
      "[34]\tvalidation_0-rmse:0.825591\tvalidation_1-rmse:0.911868\n",
      "\n"
     ]
    },
    {
     "data": {
      "text/plain": [
       "473.2912609577179"
      ]
     },
     "execution_count": 6,
     "metadata": {},
     "output_type": "execute_result"
    }
   ],
   "source": [
    "ts = time.time()\n",
    "\n",
    "model = XGBRegressor(\n",
    "    max_depth=8,\n",
    "    n_estimators=1000,\n",
    "    min_child_weight=300, \n",
    "    colsample_bytree=0.8, \n",
    "    subsample=0.8, \n",
    "    eta=0.3,\n",
    "    nthread = 8,\n",
    "    seed=10)\n",
    "\n",
    "model.fit(\n",
    "    X_train, \n",
    "    Y_train, \n",
    "    eval_metric=\"rmse\", \n",
    "    eval_set=[(X_train, Y_train), (X_valid, Y_valid)], \n",
    "    verbose=True, \n",
    "    early_stopping_rounds = 10)\n",
    "\n",
    "time.time() - ts\n",
    "\n"
   ]
  },
  {
   "cell_type": "markdown",
   "metadata": {},
   "source": [
    "## save predidtion"
   ]
  },
  {
   "cell_type": "code",
   "execution_count": 7,
   "metadata": {},
   "outputs": [],
   "source": [
    "test  = pd.read_csv('Predict Future Sales/test.csv').set_index('ID')\n",
    "\n",
    "Y_pred = model.predict(X_valid).clip(0, 20)\n",
    "Y_test = model.predict(X_test).clip(0, 20)\n",
    "\n",
    "submission = pd.DataFrame({\n",
    "    \"ID\": test.index, \n",
    "    \"item_cnt_month\": Y_test\n",
    "})\n",
    "submission.to_csv('xgb_submission_st.csv', index=False)\n",
    "\n",
    "# save predictions for an ensemble\n",
    "pickle.dump(Y_pred, open('xgb_train.pickle', 'wb'))\n",
    "pickle.dump(Y_test, open('xgb_test.pickle', 'wb'))\n",
    "\n"
   ]
  },
  {
   "cell_type": "markdown",
   "metadata": {},
   "source": [
    "## plot importance feature"
   ]
  },
  {
   "cell_type": "code",
   "execution_count": 8,
   "metadata": {},
   "outputs": [
    {
     "data": {
      "text/plain": [
       "<matplotlib.axes._subplots.AxesSubplot at 0x261c3a71da0>"
      ]
     },
     "execution_count": 8,
     "metadata": {},
     "output_type": "execute_result"
    },
    {
     "data": {
      "image/png": "[encoded data removed]",
      "text/plain": [
       "<Figure size 720x1008 with 1 Axes>"
      ]
     },
     "metadata": {},
     "output_type": "display_data"
    }
   ],
   "source": [
    "def plot_features(booster, figsize):    \n",
    "    fig, ax = plt.subplots(1,1,figsize=figsize)\n",
    "    return plot_importance(booster=booster, ax=ax)\n",
    "\n",
    "plot_features(model, (10,14))\n",
    "\n"
   ]
  },
  {
   "cell_type": "code",
   "execution_count": null,
   "metadata": {},
   "outputs": [],
   "source": []
  },
  {
   "cell_type": "code",
   "execution_count": null,
   "metadata": {},
   "outputs": [],
   "source": []
  }
 ],
 "metadata": {
  "kernelspec": {
   "display_name": "Python 3",
   "language": "python",
   "name": "python3"
  },
  "language_info": {
   "codemirror_mode": {
    "name": "ipython",
    "version": 3
   },
   "file_extension": ".py",
   "mimetype": "text/x-python",
   "name": "python",
   "nbconvert_exporter": "python",
   "pygments_lexer": "ipython3",
   "version": "3.6.5"
  }
 },
 "nbformat": 4,
 "nbformat_minor": 2
}
