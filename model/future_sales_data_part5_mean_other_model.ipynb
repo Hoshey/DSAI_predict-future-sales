{
 "cells": [
  {
   "cell_type": "markdown",
   "metadata": {},
   "source": [
    "## DSAI midterm\n",
    "\n",
    "### part 5\n",
    "### ensemble\n",
    "\n",
    "將 part1 ~ part4 的方法預測以平均或加權處理\n",
    "\n",
    "\n"
   ]
  },
  {
   "cell_type": "code",
   "execution_count": 1,
   "metadata": {},
   "outputs": [
    {
     "data": {
      "text/plain": [
       "sys.version_info(major=3, minor=6, micro=5, releaselevel='final', serial=0)"
      ]
     },
     "execution_count": 1,
     "metadata": {},
     "output_type": "execute_result"
    }
   ],
   "source": [
    "import numpy as np\n",
    "import pandas as pd\n",
    "pd.set_option('display.max_rows', 300)\n",
    "pd.set_option('display.max_columns', 300)\n",
    "\n",
    "from itertools import product\n",
    "\n",
    "import seaborn as sns\n",
    "import matplotlib.pyplot as plt\n",
    "%matplotlib inline\n",
    "\n",
    "import time\n",
    "import pickle\n",
    "import gc\n",
    "import sys\n",
    "sys.version_info\n"
   ]
  },
  {
   "cell_type": "markdown",
   "metadata": {},
   "source": [
    "## read data"
   ]
  },
  {
   "cell_type": "code",
   "execution_count": 2,
   "metadata": {},
   "outputs": [],
   "source": [
    "test  = pd.read_csv('Predict Future Sales/test.csv').set_index('ID')\n"
   ]
  },
  {
   "cell_type": "code",
   "execution_count": 3,
   "metadata": {},
   "outputs": [],
   "source": [
    "subm1 = pd.read_csv(\"Predict Future Sales/xgb_submission.csv\")\n",
    "subm2 = pd.read_csv(\"Predict Future Sales/xgb_submission_st.csv\")\n",
    "subm3 = pd.read_csv(\"Predict Future Sales/xgb_submission_18.csv\") \n",
    "subm4 = pd.read_csv(\"Predict Future Sales/xgb_submission_RF.csv\") \n"
   ]
  },
  {
   "cell_type": "markdown",
   "metadata": {},
   "source": [
    "#### part1 model + random forest model\n",
    "\n",
    "submission scored : 0.92464\n",
    "\n"
   ]
  },
  {
   "cell_type": "code",
   "execution_count": 4,
   "metadata": {},
   "outputs": [],
   "source": [
    "testy = (subm1.item_cnt_month + subm4.item_cnt_month) / 2\n",
    "\n",
    "submission = pd.DataFrame({\n",
    "    \"ID\": test.index, \n",
    "    \"item_cnt_month\": testy\n",
    "})\n",
    "\n",
    "submission.to_csv('xgb_submission_RF+xgb.csv', index=False)\n",
    "\n",
    "\n"
   ]
  },
  {
   "cell_type": "markdown",
   "metadata": {},
   "source": [
    "#### part 1 model + part 2 model + part 3 model\n",
    "\n",
    "submission scored : 0.91498\n",
    "\n"
   ]
  },
  {
   "cell_type": "code",
   "execution_count": 5,
   "metadata": {},
   "outputs": [],
   "source": [
    "testy = (subm1.item_cnt_month + subm2.item_cnt_month + subm3.item_cnt_month) / 3\n",
    "\n",
    "submission = pd.DataFrame({\n",
    "    \"ID\": test.index, \n",
    "    \"item_cnt_month\": testy\n",
    "})\n",
    "\n",
    "submission.to_csv('xgb_submission_xgb1+2+3.csv', index=False)\n",
    "\n",
    "\n"
   ]
  },
  {
   "cell_type": "markdown",
   "metadata": {},
   "source": [
    "#### 針對 part 1 + part 2 + part 3 加權平均\n",
    "#### part 1 model *0.6 + part 2 model *0.2 + part 3 model *0.2\n",
    "\n",
    "submission scored : 1.07383\n",
    "\n"
   ]
  },
  {
   "cell_type": "code",
   "execution_count": 6,
   "metadata": {},
   "outputs": [],
   "source": [
    "testy = (subm1.item_cnt_month*0.6 + subm2.item_cnt_month*0.2 + subm3.item_cnt_month*0.2) / 3\n",
    "\n",
    "submission = pd.DataFrame({\n",
    "    \"ID\": test.index, \n",
    "    \"item_cnt_month\": testy\n",
    "})\n",
    "\n",
    "submission.to_csv('xgb_submission_xgb1+2+3_v2.csv', index=False)\n",
    "\n",
    "\n"
   ]
  },
  {
   "cell_type": "markdown",
   "metadata": {},
   "source": []
  },
  {
   "cell_type": "markdown",
   "metadata": {},
   "source": [
    "## final result\n",
    "\n",
    "##### baseline , submission scored : 0.90646\n",
    "##### part 1 , submission scored : 0.91187  <-- best\n",
    "##### part 2 , submission scored : 0.91642\n",
    "##### part 3 , submission scored : 0.91866\n",
    "##### part 4 , submission scored : 0.95365\n",
    "##### part 1 + part 4 , submission scored : 0.92464\n",
    "##### part 1 + part 2 + part 3 , submission scored : 0.91498\n",
    "##### part 1 + part 2 + part 3 version2 , submission scored : 1.07383\n",
    "\n",
    "\n",
    "- 很可惜這次沒能突破 0.90646, 模型上應該有適合的參數來調整去超越，只是目前為止都無法找到適合的參數\n",
    "- 另外，這次的過程中整體來說，特徵的截取與選擇，個人覺得如果有更多的時間去嘗試會有更好的效果\n"
   ]
  }
 ],
 "metadata": {
  "kernelspec": {
   "display_name": "Python 3",
   "language": "python",
   "name": "python3"
  },
  "language_info": {
   "codemirror_mode": {
    "name": "ipython",
    "version": 3
   },
   "file_extension": ".py",
   "mimetype": "text/x-python",
   "name": "python",
   "nbconvert_exporter": "python",
   "pygments_lexer": "ipython3",
   "version": "3.6.5"
  }
 },
 "nbformat": 4,
 "nbformat_minor": 2
}
